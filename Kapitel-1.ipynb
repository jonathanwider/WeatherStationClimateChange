{
 "cells": [
  {
   "cell_type": "markdown",
   "metadata": {},
   "source": [
    "# *Was kann man eigentlich alles so machen mit den Daten einer Wetterstation?*"
   ]
  },
  {
   "cell_type": "markdown",
   "metadata": {},
   "source": [
    "Willkommen!\n",
    "\n",
    "Ziel dieses Tutorials ist es, sich die Daten einer Wetterstation \"um die Ecke\" anzuschauen. Im Idealfall kannst du am Ende einige Fragen über das Wetter bei uns vor Ort beantworten, die du dir vielleicht auch schonmal gestellt hast:\n",
    "- Wie warm ist es eigentlich im Durchschnitt so in Leipzig?\n",
    "- Wie verändert sich die Temperatur normalerweise im Laufe des Jahres?\n",
    "- Was sind die Hitze- und Kälterekorde an der Mess-Station?\n",
    "- Kann man den Klimawandel erkennen, wenn man sich die Daten einer einzelnen Wetterstation anschaut? Können wir ablesen, wie viel es im Moment etwa pro Jahr wärmer wird?\n",
    "- Können wir wissen, wie warm es morgen wird, wenn wir wissen, wie warm es heute ist?\n",
    "- Auf welcher Zeitskala ändert sich die Temperatur im Laufe des Zeit am meisten? Sprich: sind die Temperaturunterschiede zwischen einzelnen Tagen größer, als die zwischen verschiedenen Jahren?\n",
    "- Ist es kühler, wenn es regnet?\n",
    "\n",
    "Unterwegs lernst du hoffentlich auch eine Menge: \n",
    "- Wo finde ich überhaupt Wetter-Beobachtungsdaten? Muss ich die etwa selber messen?! (Spoiler: zum Glück meistens nicht)\n",
    "- Worauf muss man aufpassen wenn man mit Messdaten arbeitet? \n",
    "- Wenn ich Beobachtungen gemacht habe - wie kann ich überlegen, ob ich wirklich das gemessen habe, was ich wollte? Oder gab es Störeffekte, die die Messung beeinflusst haben (Messfehler, abgelenkte Forscher, statistisches Rauschen, ...)\n",
    "- Viele schlaue Wörter, um nerdy Mitschüler und/oder Lehrer zu beeindrucken: \"Regression\", \"Korrelation\" und \"Autokorrelation\", \"Spektrale Leistungsdichte\", \"Klimatologie\"\n",
    "\n",
    "Falls dir später irgendwas unklar ist, melde dich gerne!"
   ]
  },
  {
   "cell_type": "markdown",
   "metadata": {},
   "source": [
    "# 1. Die Daten."
   ]
  },
  {
   "cell_type": "markdown",
   "metadata": {},
   "source": [
    "Wettervorhersagen kann man sich ja ständig anschauen im Internet. Aber um das Wetter vorherzusagen, muss man ja erst mal wissen, wie das Wetter im Moment gerade ist. Woher wissen Wetterdienste und Websites wie Google oder Weather.com das eigentlich? Fallen dir Methoden ein, mit denen man Daten sammeln könnte, die uns helfen, herauszufinden, wie das Wetter gerade ist? Falls ja, schreibe gerne ein paar Ideen in das nächste Feld:"
   ]
  },
  {
   "cell_type": "markdown",
   "metadata": {},
   "source": [
    "1. \n",
    "2. \n",
    "3. "
   ]
  },
  {
   "cell_type": "markdown",
   "metadata": {},
   "source": [
    "Ob du richtig lagst, kannst du überprüfen, indem du dir die ersten paar Minuten dieses kurzen Videos des Deutschen Wetterdiensts anschaust: https://www.youtube.com/watch?v=E-Kf68P-aCM.\n",
    "\n",
    "Ist also ein ganz schöner Aufwand dafür, dass die Wettervorhersage trotzdem oft daneben liegt! Aber wie in dem Video gesagt wird: früher war es noch viel schlechter! Heute kennen wir das Wetter in 6 Tagen so genau, wie unsere Großeltern damals das Wetter am nächsten Tag - ist doch mal ein Fortschritt!"
   ]
  },
  {
   "cell_type": "markdown",
   "metadata": {},
   "source": [
    "## 1.1 Daten herunterladen."
   ]
  },
  {
   "cell_type": "markdown",
   "metadata": {},
   "source": [
    "Der Deutsche Wetterdienst hat eine Website, auf der man sich Wetterdaten herunterladen kann: https://opendata.dwd.de/climate_environment/CDC/observations_germany/climate/"
   ]
  },
  {
   "cell_type": "markdown",
   "metadata": {},
   "source": [
    "Deine Aufgabe ist es jetzt zunächst, auf dieser Website passende Wetterdaten zu suchen, dir eine Wetterstation deiner Wahl auszusuchen, und die Daten auf deinen PC herunterzuladen.\n",
    "\n",
    "Welche Daten wir suchen:\n",
    "- Tägliche Durchschnittswerte\n",
    "- Wir brauchen Temperatur (und eventuell Niederschläge), die finden sich unter dem Stichwort `kl`\n",
    "- Um den Klimawandel beobachten zu können brauchen wir lange Zeitreihen. Deshalb wäre es gut, \"historische\" Zeitreihen herunterzuladen.\n",
    "\n",
    "Wenn du alles richtig gemacht hast, bist du jetzt in einem Ordner, in dem es eine Datei gibt, die `KL_Tageswerte_Beschreibung_Stationen.txt` heißt. In dieser Datei sind alle Wetterstationen aufgelistet, zusammen mit Informationen über die Daten (alphabetisch sortiert). \n",
    "\n",
    "Suche dir eine Station aus, die dich interessiert. Wichtig ist vor allem, dass die Station schon eine lange Zeitreihe besitzt - manche Stationen wurden erst vor kurzem aufgestellt, oder irgendwann abgebaut, die haben wahrscheinlich zu wenige Daten um alle Fragen beantworten zu können, die wir haben. Wenn du dich entschieden hast, notiere dir (oder merke dir, wenn du ein gutes Gedächtnis hast ;)) die Zahl, die für deine Station in der Spalte `Stations_id` steht. \n",
    "\n",
    "Dann gehe zurück in den Ordner, aus dem du gekommen bist. Dort liegen viele Dateien, deren Namen ungefähr so aussehen: `tageswerte_KL_00161_19801201_20221231_hist.zip`. Die erste Zahl im Namen ist die `Stations_id`, die du dir aufgeschrieben hast. Suche deine Station und lade dann die Daten herunter, indem du auf den Namen drückst."
   ]
  },
  {
   "cell_type": "markdown",
   "metadata": {},
   "source": [
    "Die heruntergeladene Datei ist eine `.zip` Datei, du man erst \"auspacken\" muss. Wenn du weißt, wie das geht, kannst du das direkt machen, sonst frag kurz um Hilfe :)"
   ]
  },
  {
   "cell_type": "markdown",
   "metadata": {},
   "source": [
    "## 1.2 Daten auf die Website hochladen (und anschauen!)"
   ]
  },
  {
   "cell_type": "markdown",
   "metadata": {},
   "source": [
    "Die Daten kannst du jetzt hier hochladen damit wir sie anschauen und auswerten können. Dazu kannst du einfach Den \"ausgepackten\" Ordner mit Wetterdaten anklicken und links im Fenster in den Ordner `daten` ziehen."
   ]
  }
 ],
 "metadata": {
  "language_info": {
   "name": "python"
  }
 },
 "nbformat": 4,
 "nbformat_minor": 2
}
