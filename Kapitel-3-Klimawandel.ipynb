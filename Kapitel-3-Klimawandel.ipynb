{
 "cells": [
  {
   "cell_type": "markdown",
   "metadata": {},
   "source": [
    "# Kapitel 3 - Klimawandel"
   ]
  },
  {
   "cell_type": "markdown",
   "metadata": {},
   "source": [
    "Den Klimawandel an nur einer einzelnen Wetterstation abzulesen ist nicht ganz leicht. Das liegt vor allem an diesen Gründen:\n",
    "\n",
    "- die Erde erwärmt sich nicht überall gleich schnell. Und es gibt sogar einige wenige Orte, an denen es über die letzten Jahre eher kälter als wärmer wurde... an diesen Orten kann man also schon prinzipiell Erwärmung finden! Das schauen wir uns später nochmal genauer an.\n",
    "- im Klimasystem der Erde passiert sehr viel mit unterschiedlichen Zeitskalen: Von Regen, der in 15 Minuten wieder vorbei sein kann, über Hoch- und Tiefdruckgebiete, die sich in Tagen bis Wochen verändern, bis zu sehr langsamen Phänomenen, die Auftreten: vielleicht hast du schonmal vom El Nino gehört - der kommt in etwa alle 2 bis 7 Jahre wiederholt. Man muss aufpassen, dass diese sogenannte \"Klima-Variabilität\" nicht das Signal beeinflusst, dass man für den Klimawandel bestimmt! Du hast ja mittlerweile auch schon gesehen, dass sehr viel \"Rauschen\" in den Daten ist.\n",
    "- last but not least kann es auch mit der Mess-Station Probleme geben: Hat sich das Messgerät verändert? Ist die Station umgezogen? Wurde der Boden / die Umgebung um die Station verändert, so dass sich die Gegend um die Station jetzt zB unter der Sonne mehr aufwärmt?"
   ]
  },
  {
   "cell_type": "markdown",
   "metadata": {},
   "source": [
    "Also los geht's: Zuerst müssen wir nochmal die Daten laden (kennst du ja schon aus den letzten Kapiteln - deinen Datei +  Ordnernamen eingeben)"
   ]
  },
  {
   "cell_type": "code",
   "execution_count": 3,
   "metadata": {},
   "outputs": [],
   "source": [
    "# Programmierbibliotheken importieren\n",
    "\n",
    "import pandas as pd\n",
    "import xarray as xr\n",
    "import matplotlib.pyplot as plt\n",
    "import numpy as np"
   ]
  },
  {
   "cell_type": "code",
   "execution_count": 4,
   "metadata": {},
   "outputs": [],
   "source": [
    "d = pd.read_csv(\n",
    "    \"DeinOrdnerName/DeinDateiname\",  # \"tageswerte_KL_01234_12345678_12345678_hist/produkt_klima_tag_12345678_12345678_01234.txt\"\n",
    "    sep=\";\",\n",
    "    skipinitialspace=True,\n",
    ")\n",
    "\n",
    "data = xr.DataArray(d[\"TMK\"], coords={\"time\": d[\"MESS_DATUM\"]})\n",
    "data[\"time\"] = pd.to_datetime(data.time, format=\"%Y%m%d\")\n",
    "data = data.sel(time=slice(np.datetime64(\"1972-01-01\"), None))"
   ]
  },
  {
   "cell_type": "markdown",
   "metadata": {},
   "source": [
    "Damit der Klimawandel nicht von der \"Klimavariabilität\" überdeckt wird, können wir uns zunächst mal Jahresdurchschnittswerte anschauen:"
   ]
  },
  {
   "cell_type": "code",
   "execution_count": 7,
   "metadata": {},
   "outputs": [],
   "source": [
    "yearly_averages = data.groupby(\"time.year\").mean()\n",
    "\n",
    "yearly_averages.plot.scatter()\n",
    "plt.show()"
   ]
  },
  {
   "cell_type": "markdown",
   "metadata": {},
   "source": [
    "Was fällt dir auf? Kannst du einen Trend erkennen? Ist das \"Erderwärmungs-Signal\" klar?"
   ]
  },
  {
   "cell_type": "markdown",
   "metadata": {},
   "source": [
    "Antwort:"
   ]
  },
  {
   "cell_type": "markdown",
   "metadata": {},
   "source": [
    "Das der Trend nicht so klar ist überrascht dich vielleicht - das sieht weniger klar aus als die \"Klimastreifen\", die man oft sieht, um die Erderwärmung zu symbolisieren:"
   ]
  },
  {
   "cell_type": "markdown",
   "metadata": {},
   "source": [
    "![Klimastreifen](klimastreifen.png) \n",
    "\n",
    "(Image Credit: Ed Hawkins)"
   ]
  },
  {
   "cell_type": "markdown",
   "metadata": {},
   "source": [
    "Werden also alle hinter's Licht geführt von Klimawissenschaftlern? Nein - Denn die Daten in den Klimastreifen sind Jahresdurchschnitte für die gesamte Erde, wärend wir uns nur die Temperatur in Leipzig angeschaut haben. Und wenn man den Durchschnitt über die gesamte Erde nimmt, \"mittelt sich viel Rauschen heraus\". Du kannst dir zum Beispiel vorstellen, dass es in einem Jahr mit einem sehr heißen Sommer in Deutschland oft einen kalten Sommer anderswo auf der Welt gibt... es ist ein bisschen wie Lotterie spielen, wer ein kaltes und wer ein warmes Jahr bekommt - aber durch den Klimawandel wird es im Durchschnitt für alle wärmer."
   ]
  },
  {
   "cell_type": "markdown",
   "metadata": {},
   "source": [
    "## 3.2 Linearer Trend"
   ]
  },
  {
   "cell_type": "markdown",
   "metadata": {},
   "source": [
    "Du hast vermutlich gesehen, dass es in den Daten der Station Leipzig/Halle tendenziell doch leicht bergauf geht mit der Temperatur. Können wir irgendwie genauer sagen, wie viel das pro Jahr ist?\n",
    "\n",
    "Um das zu machen schauen wir uns etwas an, was wissenschaftler \"Lineare Regression\" nennen. Dabei legt man im einfachsten Fall eine Gerade auf die Daten... und verschiebt die dann so lange hin und her, bis der \"Fehler\", den man durch die gerade macht möglichst klein ist.\n",
    "\n",
    "Ich hab im nächsten Codeblock mal 3 Geraden definiert - ich denke, man sieht, dass einige davon besser zu den Daten passen als andere:"
   ]
  },
  {
   "cell_type": "code",
   "execution_count": 54,
   "metadata": {},
   "outputs": [],
   "source": [
    "def f(x, m, b):\n",
    "    return m * x + b\n",
    "\n",
    "\n",
    "yearly_averages = data.groupby(\"time.year\").mean()\n",
    "\n",
    "yearly_averages.plot.scatter(color=\"k\")\n",
    "\n",
    "plt.plot(yearly_averages.year, f(yearly_averages.year, 0.1, -190))\n",
    "plt.plot(yearly_averages.year, f(yearly_averages.year, 2, -4000))\n",
    "plt.plot(yearly_averages.year, f(yearly_averages.year, -0.3, 610))\n",
    "plt.ylim(0, 20)\n",
    "plt.show()"
   ]
  },
  {
   "cell_type": "markdown",
   "metadata": {},
   "source": [
    "Man muss das zum Glück nicht alles von Hand machen - man kann mit Mathe definieren, was es bedeutet, dass eine Gerade den \"kleinsten Fehler\" macht... und dann kann man ausrechnen, welche Gerade die beste ist. Das machen wir (bzw der Computer) jetzt:"
   ]
  },
  {
   "cell_type": "code",
   "execution_count": null,
   "metadata": {},
   "outputs": [],
   "source": [
    "from scipy import optimize\n",
    "\n",
    "popt, pcov = optimize.curve_fit(f, yearly_averages.year, yearly_averages)\n",
    "print(\n",
    "    \"Optimale Steigung: {:.3f}\".format(popt[0]),\n",
    "    \"Optimaler y-Achsen-Abschnitt: {:.3f}\".format(popt[1]),\n",
    ")"
   ]
  },
  {
   "cell_type": "markdown",
   "metadata": {},
   "source": [
    "Schauen wir uns die Gerade an:"
   ]
  },
  {
   "cell_type": "code",
   "execution_count": null,
   "metadata": {},
   "outputs": [],
   "source": [
    "x = yearly_averages.year\n",
    "y = yearly_averages\n",
    "\n",
    "plt.scatter(x, y, label=\"Daten\")\n",
    "plt.plot(\n",
    "    [min(x), max(x)], [f(min(x), *popt), f(max(x), *popt)], \"r--\", label=\"Beste Gerade\"\n",
    ")\n",
    "plt.legend()\n",
    "\n",
    "plt.ylim(5, 15)\n",
    "plt.show()\n",
    "# yearly_averages.rolling(year=10, center=True).mean().plot()"
   ]
  },
  {
   "cell_type": "markdown",
   "metadata": {},
   "source": [
    "Das sieht doch gut aus!\n",
    "\n",
    "Und wenn wir uns die Geradengleichung anschauen können wir auch herausfinden, wie viel es Pro Jahr etwa wärmer wird: Dazu müssen wir auf die Steigung der Geraden schauen:"
   ]
  },
  {
   "cell_type": "code",
   "execution_count": null,
   "metadata": {},
   "outputs": [],
   "source": [
    "\"Steigung: {:.3f}\".format(popt[0])"
   ]
  },
  {
   "cell_type": "markdown",
   "metadata": {},
   "source": [
    "Welche Einheiten hat diese Steigung? (Die Antwort ist die Einheit auf der y-Achse, geteilt durch die Einheit auf der x-Achse)\n",
    "\n",
    "Antwort:\n",
    "\n",
    "Kannst du herausfinden, 1) wie viel es in 10 Jahren wärmer wird? 2) wie lange es etwa dauern sollte, um 1°C wärmer zu werden?\n",
    "\n",
    "Antwort 1:\n",
    "Antwort 2:"
   ]
  },
  {
   "cell_type": "markdown",
   "metadata": {},
   "source": [
    "Achtung: die Zeit, die wir hier für 1°C zusätzliche Erwärmung ausgerechnet haben muss für die Zukunft nicht richtig sein, nicht einmal für Leipzig! Denn hier haben wir einfach gesagt \"die Temperatur folgt über die Zeit einer Geraden\" ohne das irgendwie zu begründen. Das ist eine extrem starke Vereinfachung. Und dazu hängt die Zukünftige Klimaveränderung natürlich davon ab, wie viel Treibhausgase ausgestoßen werden - es kann also sein, dass ein zusätzliches °C Erwärmung noch schneller erreicht wird (wenn wir mehr CO2 ausstoßen), oder dass es deutlich länger dauert (wenn wir den Klimawandel effektiv bekämpfen) - oder überhaupt nie erreicht wird."
   ]
  },
  {
   "cell_type": "markdown",
   "metadata": {},
   "source": [
    "## 3.3 Vergleich mit weltweitem Klimawandel"
   ]
  },
  {
   "cell_type": "markdown",
   "metadata": {},
   "source": [
    "Bis jetzt haben wir uns nur die Daten einer einzelnen Wetterstation angeschaut - wie Unterschiedlich ist unser Ergebnis von der Klimaveränderung in ganz Deutschland? Und wie unterschiedlich Verhält es sich an verschiedenen Orten der Erde?"
   ]
  },
  {
   "cell_type": "markdown",
   "metadata": {},
   "source": [
    "Der Weltklimarat hat einen [Atlas](https://interactive-atlas.ipcc.ch/regional-information#eyJ0eXBlIjoiQVRMQVMiLCJjb21tb25zIjp7ImxhdCI6OTc3MiwibG5nIjo0MDA2OTIsInpvb20iOjQsInByb2oiOiJFUFNHOjU0MDMwIiwibW9kZSI6ImNvbXBsZXRlX2F0bGFzIn0sInByaW1hcnkiOnsic2NlbmFyaW8iOiJvYnNlcnZhdGlvbnMiLCJwZXJpb2QiOiIxOTgwLTIwMTUiLCJzZWFzb24iOiJ5ZWFyIiwiZGF0YXNldCI6Ik9CUy1FUkE1IiwidmFyaWFibGUiOiJ0YXMiLCJ2YWx1ZVR5cGUiOiJUUkVORCIsImhhdGNoaW5nIjoiRElTQUJMRUQiLCJyZWdpb25TZXQiOiJhcjYiLCJiYXNlbGluZSI6InByZUluZHVzdHJpYWwiLCJyZWdpb25zU2VsZWN0ZWQiOltdfSwicGxvdCI6eyJhY3RpdmVUYWIiOiJwbHVtZSIsIm1hc2siOiJub25lIiwic2NhdHRlcllNYWciOm51bGwsInNjYXR0ZXJZVmFyIjpudWxsLCJzaG93aW5nIjpmYWxzZX19) veröffentlicht, auf dem man sich weltweite Temperatur-Beobachtungsdaten (und Projektionen für die Zukunft unter verschiedenen Szenarien) anschauen kann.\n",
    "\n",
    "Schau dir die Karte an: Wie viel hat sich die Temperatur in der Gegend von Leipzig (muss nicht genau stimmen) zwischen 1980 und 2015 in etwa pro Dekade (10 Jahre) erwärmt? Vergleiche mit unserem Ergebnis!"
   ]
  },
  {
   "cell_type": "markdown",
   "metadata": {},
   "source": [
    "Antwort:"
   ]
  },
  {
   "cell_type": "markdown",
   "metadata": {},
   "source": [
    "Was fällt dir sonst so auf? Welche Regionen haben sich besonders start erwärmt, welche nur sehr wenig oder sind sogar kälter geworden? Was sind die höchsten und niedrigsten Werte, die du finden kannst? (du kannst auch die Farbskala in dem Atlas einstellen indem du auf das Symbol mit dem Stift über der Farbskala klickst)"
   ]
  },
  {
   "cell_type": "markdown",
   "metadata": {},
   "source": [
    "Antwort:\n",
    "\n",
    "Größte Erwärmung pro Dekade: °C/10 Jahre\n",
    "Geringste Erwärmung/stärkste Abkühlung pro Dekade: °C/10 Jahre"
   ]
  },
  {
   "cell_type": "markdown",
   "metadata": {},
   "source": [
    "Damit sind wir auch mit diesem Kapitel fertig! Weiter geht's mit [Kapitel 4](Kapitel-4-Spektrum.ipynb)."
   ]
  }
 ],
 "metadata": {
  "kernelspec": {
   "display_name": "student_project",
   "language": "python",
   "name": "python3"
  },
  "language_info": {
   "codemirror_mode": {
    "name": "ipython",
    "version": 3
   },
   "file_extension": ".py",
   "mimetype": "text/x-python",
   "name": "python",
   "nbconvert_exporter": "python",
   "pygments_lexer": "ipython3",
   "version": "3.12.1"
  }
 },
 "nbformat": 4,
 "nbformat_minor": 2
}
