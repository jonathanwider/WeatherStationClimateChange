{
 "cells": [
  {
   "cell_type": "markdown",
   "metadata": {},
   "source": [
    "# Kapitel 2 - Datenanalyse"
   ]
  },
  {
   "cell_type": "markdown",
   "metadata": {},
   "source": [
    "Ziel dieses Kapitels ist es, sich die Wetter-Daten ein bisschen genauer anzuschauen. Dazu müssen wir sie aber erst nochmal laden. Dafür musst du die Code-Blocks ausführen - und wie im letzten Kapitel den Ordner und Dateinamen an die richtige stelle schreiben:"
   ]
  },
  {
   "cell_type": "code",
   "execution_count": 4,
   "metadata": {},
   "outputs": [],
   "source": [
    "# Programmierbibliotheken importieren\n",
    "\n",
    "import pandas as pd\n",
    "import xarray as xr\n",
    "import matplotlib.pyplot as plt\n",
    "import numpy as np"
   ]
  },
  {
   "cell_type": "code",
   "execution_count": 7,
   "metadata": {},
   "outputs": [],
   "source": [
    "d = pd.read_csv(\n",
    "    \"DeinOrdnerName/DeinDateiname\",  # \"tageswerte_KL_02932_19340101_20221231_hist/produkt_klima_tag_19340101_20221231_02932.txt\"\n",
    "    sep=\";\",\n",
    "    skipinitialspace=True,\n",
    ")\n",
    "\n",
    "data = xr.DataArray(d[\"TMK\"], coords={\"time\": d[\"MESS_DATUM\"]})\n",
    "data[\"time\"] = pd.to_datetime(data.time, format=\"%Y%m%d\")\n",
    "data = data.sel(time=slice(np.datetime64(\"1972-01-01\"), None))"
   ]
  },
  {
   "cell_type": "markdown",
   "metadata": {},
   "source": [
    "Hier hab ich die Daten direkt schon so gefiltert, dass nur welche ab 1972 dabei sind."
   ]
  },
  {
   "cell_type": "markdown",
   "metadata": {},
   "source": [
    "## 2.1 Maximale und minimale tägliche Durchschnittstemperatur"
   ]
  },
  {
   "cell_type": "markdown",
   "metadata": {},
   "source": [
    "Mit Funktionen lässt sich ganz leicht herausfinden, was die höchste und niedrigste Tagesdurchschnittstemperatur war, die seit 1972 an der Station Leipzig/Halle gemessen wurde:\n",
    "\n",
    "`data.max().to_numpy()` gibt dir das Maximum über die Daten in `data` zurück, `data.min().to_numpy()` das Minimum. \n",
    "\n",
    "Und mit `data.time.isel(time=data.argmax()).to_numpy()` und `data.time.isel(time=data.argmin()).to_numpy()` kannst du herausfinden, an welchem Datum es am kältesten / heißesten war. \n",
    "\n",
    "Um das herauszufinden kannst du in den folgenden Programmiercode einfach jeweils die Funktionsnamen rein kopieren:"
   ]
  },
  {
   "cell_type": "code",
   "execution_count": 37,
   "metadata": {},
   "outputs": [],
   "source": [
    "print(f\"Maximum: {} °C\") # hier in die geschweiften Klammern die Funktion für das Maximum einfügen.\n",
    "print(f\"Minimum: {} °C\") # hier in die geschweiften Klammern die Funktion für das Minimum einfügen.\n",
    "print(f\"Tag des Maximums: {}\") # hier in die geschweiften Klammern die Funktion für das argmax einfügen.\n",
    "print(f\"Tag des Minimums: {}\") # hier in die geschweiften Klammern die Funktion für das argmin einfügen."
   ]
  },
  {
   "cell_type": "markdown",
   "metadata": {},
   "source": [
    "Wie du vielleicht schon gedacht hast, kann man in Python mit `print()` Sachen \"drucken\" lassen - das bedeutet, dass der Computer dass dann als Text an einen zurück gibt. Zum beispiel so:"
   ]
  },
  {
   "cell_type": "code",
   "execution_count": 35,
   "metadata": {},
   "outputs": [],
   "source": [
    "print(1 + 1)"
   ]
  },
  {
   "cell_type": "markdown",
   "metadata": {},
   "source": [
    "Hier rechnet der Computer erst intern \"1+1\" aus und gibt uns dann das Ergebnis zurück. So ähnlich (in etwas komplizierter) funktioniert das oben auch."
   ]
  },
  {
   "cell_type": "markdown",
   "metadata": {},
   "source": [
    "## 2.2 Durchschnittstemperatur an der Station Leipzig/Halle"
   ]
  },
  {
   "cell_type": "markdown",
   "metadata": {},
   "source": [
    "## 2.3 Die Jahreszeiten"
   ]
  }
 ],
 "metadata": {
  "kernelspec": {
   "display_name": "student_project",
   "language": "python",
   "name": "python3"
  },
  "language_info": {
   "codemirror_mode": {
    "name": "ipython",
    "version": 3
   },
   "file_extension": ".py",
   "mimetype": "text/x-python",
   "name": "python",
   "nbconvert_exporter": "python",
   "pygments_lexer": "ipython3",
   "version": "3.12.1"
  }
 },
 "nbformat": 4,
 "nbformat_minor": 2
}
