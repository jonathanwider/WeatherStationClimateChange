{
 "cells": [
  {
   "cell_type": "markdown",
   "metadata": {},
   "source": [
    "# Kapitel 2 - Datenanalyse"
   ]
  },
  {
   "cell_type": "markdown",
   "metadata": {},
   "source": [
    "Ziel dieses Kapitels ist es, sich die Wetter-Daten ein bisschen genauer anzuschauen. Dazu müssen wir sie aber erst nochmal laden. Dafür musst du die Code-Blocks ausführen - und wie im letzten Kapitel den Ordner und Dateinamen an die richtige stelle schreiben - kannst du einfach kopieren wenn du willst:"
   ]
  },
  {
   "cell_type": "code",
   "execution_count": 3,
   "metadata": {},
   "outputs": [],
   "source": [
    "# Programmierbibliotheken importieren\n",
    "\n",
    "import pandas as pd\n",
    "import xarray as xr\n",
    "import matplotlib.pyplot as plt\n",
    "import numpy as np"
   ]
  },
  {
   "cell_type": "code",
   "execution_count": 5,
   "metadata": {},
   "outputs": [],
   "source": [
    "d = pd.read_csv(\n",
    "    \"DeinOrdnerName/DeinDateiname\",  # \"tageswerte_KL_02932_19340101_20221231_hist/produkt_klima_tag_19340101_20221231_02932.txt\"\n",
    "    sep=\";\",\n",
    "    skipinitialspace=True,\n",
    ")\n",
    "\n",
    "data = xr.DataArray(d[\"TMK\"], coords={\"time\": d[\"MESS_DATUM\"]})\n",
    "data[\"time\"] = pd.to_datetime(data.time, format=\"%Y%m%d\")\n",
    "data = data.sel(time=slice(np.datetime64(\"1972-01-01\"), None))"
   ]
  },
  {
   "cell_type": "markdown",
   "metadata": {},
   "source": [
    "Hier hab ich die Daten direkt schon so gefiltert, dass nur welche ab 1972 dabei sind."
   ]
  },
  {
   "cell_type": "markdown",
   "metadata": {},
   "source": [
    "## 2.1 Maximale und minimale tägliche Durchschnittstemperatur"
   ]
  },
  {
   "cell_type": "markdown",
   "metadata": {},
   "source": [
    "Mit Funktionen lässt sich ganz leicht herausfinden, was die höchste und niedrigste Tagesdurchschnittstemperatur war, die seit 1972 an der Station Leipzig/Halle gemessen wurde:\n",
    "\n",
    "`data.max().to_numpy()` gibt dir das Maximum über die Daten in `data` zurück, `data.min().to_numpy()` das Minimum. \n",
    "\n",
    "Und mit `data.time.isel(time=data.argmax()).to_numpy()` und `data.time.isel(time=data.argmin()).to_numpy()` kannst du herausfinden, an welchem Datum es am kältesten / heißesten war. \n",
    "\n",
    "Um das herauszufinden kannst du in den folgenden Programmiercode einfach jeweils die Funktionsnamen rein kopieren:"
   ]
  },
  {
   "cell_type": "code",
   "execution_count": 37,
   "metadata": {},
   "outputs": [],
   "source": [
    "print(f\"Maximum: {} °C\") # hier in die geschweiften Klammern die Funktion für das Maximum einfügen.\n",
    "print(f\"Minimum: {} °C\") # hier in die geschweiften Klammern die Funktion für das Minimum einfügen.\n",
    "print(f\"Tag des Maximums: {}\") # hier in die geschweiften Klammern die Funktion für das argmax einfügen.\n",
    "print(f\"Tag des Minimums: {}\") # hier in die geschweiften Klammern die Funktion für das argmin einfügen."
   ]
  },
  {
   "cell_type": "markdown",
   "metadata": {},
   "source": [
    "Wie du vielleicht schon gedacht hast, kann man in Python mit `print()` Sachen \"drucken\" lassen - das bedeutet, dass der Computer dass dann als Text an einen zurück gibt. Zum beispiel so:"
   ]
  },
  {
   "cell_type": "code",
   "execution_count": 35,
   "metadata": {},
   "outputs": [],
   "source": [
    "print(1 + 1)"
   ]
  },
  {
   "cell_type": "markdown",
   "metadata": {},
   "source": [
    "Hier rechnet der Computer erst intern \"1+1\" aus und gibt uns dann das Ergebnis zurück. So ähnlich (in etwas komplizierter) funktioniert das oben auch."
   ]
  },
  {
   "cell_type": "markdown",
   "metadata": {},
   "source": [
    "## 2.2 Durchschnittstemperatur an der Station Leipzig/Halle"
   ]
  },
  {
   "cell_type": "markdown",
   "metadata": {},
   "source": [
    "Diese Teilaufgabe nutzen wir ein wenig, um zu erfahren, was man als Programmierer machen kann, wenn man nicht genau weiß, auf welchem Weg man am besten sein Ziel erreicht - in diesem Fall den Durchschnitt über alle Temperaturwerte auszurechnen.\n",
    "\n",
    "Viele lernen programmieren im Studium - da werden einem aber oft nur die \"Muster\" beigebracht, nach denen Programmieren funktioniert, wie einzelne Sprachen funktionieren, oder was man alles mit \"Bibliotheken\" machen kann gibt muss man meistens selbst herausfinden.\n",
    "\n",
    "Falls du dich gefragt hast: \"Bibliotheken\" sind Sammlungen von Programmiercode, den andere Leute geschrieben haben, um konkrete Probleme zu lösen - zum Beispiel schöne Graphiken zu erstellen, einfach Daten zu verarbeiten, oder Dinge aus dem Internet herunterzuladen.\n",
    "\n",
    "Man kann programmieren auch mit Büchern lernen, oder mit \"Online Büchern\", die zum Teil ein bisschen ähnlich aufgebaut sind wie dieses \"Jupyter Notebook\" - sprich sie sind eine Mischung aus Text und ausführbarem Programmiercode.\n",
    "\n",
    "Wenn man ein konkretes Problem hat, und keine Zeit, ein Buch zu lesen machen Programmieren oft auch folgende Dinge:\n",
    "- auf der Website der Programmiersprache bzw der Bibliothek nachschauen, die man benutzt. Bei uns wäre das zB [xarray](https://docs.xarray.dev/en/stable/index.html), denn das ist die Bibliothek, die wir benutzen, um unsere Daten auszuwerten. Hier wird genau beschrieben, was man mit dem Programmiercode in der Bibliothek machen kann - das nennt sich \"Dokumentation\". Oft gibt es auch dort auch direkt Beispiele.\n",
    "- googlen. Am Anfang glaubt man, programmierer wissen alles selbst - aber es wird auch wirklich viel im Internet nachgeschaut!\n",
    "- die KI fragen. KI ist sehr gut darin, Programmiercode zu schreiben. Den Ergebnissen sollte man aber nicht blind vertrauen, sondern Tests machen oder in der Dokumentation nachschauen, um sicher zu gehen, dass der Code den die KI vorschlägt auch wirklich das macht, was man von ihm will\n",
    "\n",
    "Deine Aufgabe ist jetzt, herauszufinden, wie wir den Durchschnitt unserer Daten in `data`ausrechnen können. Nutze dazu gerne einen der 3 Wege, die ich oben beschrieben habe. Falls du KI benutzen willst und keinen ChatGPT account hast kannst du zum Beispiel [phind.com](https://www.phind.com) benutzen.\n",
    "\n",
    "Damit du ein bisschen genauer weißt, wonach du fragen musst, können wir uns noch anschauen, in welchem Typ von Objekt unsere Daten gespeichert sind:"
   ]
  },
  {
   "cell_type": "code",
   "execution_count": 11,
   "metadata": {},
   "outputs": [
    {
     "data": {
      "text/plain": [
       "xarray.core.dataarray.DataArray"
      ]
     },
     "execution_count": 11,
     "metadata": {},
     "output_type": "execute_result"
    }
   ],
   "source": [
    "type(data)"
   ]
  },
  {
   "cell_type": "markdown",
   "metadata": {},
   "source": [
    "Die Daten sind also ein \"xarray DataArray\".\n",
    "\n",
    "Und noch ein kleiner Tipp: \"Durchschnitt\" kann man auf Englisch mit \"mean\" übersetzen."
   ]
  },
  {
   "cell_type": "code",
   "execution_count": 14,
   "metadata": {},
   "outputs": [],
   "source": [
    "# Dein Programmiercode hier."
   ]
  },
  {
   "cell_type": "markdown",
   "metadata": {},
   "source": [
    "## 2.3 Die Jahreszeiten"
   ]
  },
  {
   "cell_type": "markdown",
   "metadata": {},
   "source": [
    "In dem einen Jahr, das wir uns in [Kapitel 1](Kapitel-1-Einleitung.ipynb) angeschaut haben war die Temperatur der einzelnen Tage (zB 1. April) sehr davon abhängig, welches genaue Wetter es gerade gab (Sonne? Wolken? Sturm?). Wir können aber auch herausfinden, wie warm es normalerweise so an einem 1. April ist - indem wir einfach den Durchschnitt über alle 1. April's ausrechnen, die wir in unserem Datensatz haben. Und das selbe können wir auch für alle anderen Tage machen. Dann sollten sich die verschiedenen Wetterzustände gegenseitig herausmitteln."
   ]
  },
  {
   "cell_type": "code",
   "execution_count": 18,
   "metadata": {},
   "outputs": [],
   "source": [
    "data.groupby(\"time.dayofyear\").mean().plot()\n",
    "plt.show()"
   ]
  },
  {
   "cell_type": "markdown",
   "metadata": {},
   "source": [
    "Jetzt sollte die Kurve deutlich \"glatter\" aussehen als im letzten Kapitel. Ganz glatt ist sie aber immer noch nicht - das liegt vor allem daran, dass wir zu wenige Daten haben. Fallen dir Möglichkeiten ein, wie man eine noch \"glattere\" Kurve bekommen könnte?"
   ]
  },
  {
   "cell_type": "markdown",
   "metadata": {},
   "source": [
    "Antwort(en):"
   ]
  },
  {
   "cell_type": "markdown",
   "metadata": {},
   "source": [
    "Damit kannst du zum nächsten Kapitel weiter gehen - da schauen wir uns an, ob man den Klimawandel an den Wetterdaten ablesen kann!"
   ]
  }
 ],
 "metadata": {
  "kernelspec": {
   "display_name": "student_project",
   "language": "python",
   "name": "python3"
  },
  "language_info": {
   "codemirror_mode": {
    "name": "ipython",
    "version": 3
   },
   "file_extension": ".py",
   "mimetype": "text/x-python",
   "name": "python",
   "nbconvert_exporter": "python",
   "pygments_lexer": "ipython3",
   "version": "3.12.1"
  }
 },
 "nbformat": 4,
 "nbformat_minor": 2
}
